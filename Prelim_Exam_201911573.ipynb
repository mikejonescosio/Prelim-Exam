{
  "nbformat": 4,
  "nbformat_minor": 0,
  "metadata": {
    "colab": {
      "name": "Prelim_Exam_201911573",
      "provenance": [],
      "collapsed_sections": []
    },
    "kernelspec": {
      "name": "python3",
      "display_name": "Python 3"
    }
  },
  "cells": [
    {
      "cell_type": "markdown",
      "metadata": {
        "id": "qAPMetFeHDnM"
      },
      "source": [
        "<h2>Bebang's Online Business </h2>\r\n",
        "You have a friend named Bebang who has an online business in which she sells donuts. She asks you to make something that helps her to observe the increase and decrease of her profit considering the reach of her online posts. As novice data analytic engineers, you suggest to make a plotter using vectors of her weekly profit and FB post reach for a month. She is amazed that you have this idea and will pay you 15,000 PHP for the program. "
      ]
    },
    {
      "cell_type": "markdown",
      "metadata": {
        "id": "uoGa3O0AHIBK"
      },
      "source": [
        "Consider the computational algorithm:\r\n",
        "\r\n",
        "The efficiency is composed of the profit ($p$) and FaceBook post reach ($r$).\r\n",
        "\r\n",
        "Let the magnitude of the monthly efficiency be $E_m$, weekly efficiency be $E_w$, the y component of the monthly efficiency as $E_m\\hat{y}$, the x component of the monthly efficiency as $E_m\\hat{x}$, and $\\theta$ as the gradient of the efficiency.\r\n",
        "\r\n",
        "$$\r\n",
        "E_w = r \\hat{x} + p \\hat{y} \\\\ _{(Eq.1)} \\\\\r\n",
        "$$\r\n",
        "<br>\r\n",
        "$$\r\n",
        "E_m = \\sqrt{\\sum{(E_w)^2}}\\\\ _{(Eq.2)} \\\\\r\n",
        "$$<br>\r\n",
        "$$\r\n",
        "\\theta = \\arctan{\\left(\\frac{E_m\\hat{y}}{E_m\\hat{x}+\\alpha} \\right)}\\\\ _{(Eq.3)} \r\n",
        "$$"
      ]
    },
    {
      "cell_type": "code",
      "metadata": {
        "id": "rH3qTFgmG-Nf"
      },
      "source": [
        "'''\r\n",
        "GRADED FUNCTION\r\n",
        "This is the starter code that you would use for Bebang's project. You may use Part 1 as a reference to complete this code.\r\n",
        "Please provide proper documentation, commenting, and necessary revisions to make the code clean and understandable.\r\n",
        "'''\r\n",
        "## START OF FUNCTION\r\n",
        "import numpy as np\r\n",
        "import matplotlib.pyplot as plt\r\n",
        "\r\n",
        "\r\n",
        "def month_profit_trace(profit, reach, make_figs=True):\r\n",
        "    if (profit.shape == (4,)) and (reach.shape == (4,)):\r\n",
        "        # Setup the weekly efficiency vectors\r\n",
        "        e_week1 = np.array((reach[0], profit[0]))\r\n",
        "        e_week2 = np.array((reach[1], profit[1]))\r\n",
        "        e_week3 = np.array((reach[2], profit[2]))\r\n",
        "        e_week4 = np.array((reach[3], profit[3]))\r\n",
        "\r\n",
        "        #Weekly Efficieny\r\n",
        "        e_month = e_week1 + e_week2 + e_week3 + e_week4\r\n",
        "        e_month_magnitude = np.linalg.norm(e_month)\r\n",
        "        e_monthx = e_month[0] ** 2\r\n",
        "        e_monthy = e_month[1] ** 2\r\n",
        "        alpha = 0.5\r\n",
        "        print('',e_month)\r\n",
        "\r\n",
        "        #Gradient Efficiency\r\n",
        "        theta = np.arctan(e_monthy/(e_monthx + alpha))\r\n",
        "        theta = np.degrees(theta)\r\n",
        "\r\n",
        "        plt.title('Bebang\\'s Month Post Efficiency')\r\n",
        "        plt.xlim(0, 1.01 * np.sum(reach))\r\n",
        "        plt.ylim(-np.sum(np.abs(profit)), np.sum(np.abs(profit)))\r\n",
        "        plt.xlabel('FB Post Reach Increment')\r\n",
        "        plt.ylabel('Profit')\r\n",
        "        plt.grid()\r\n",
        "        n = 2\r\n",
        "\r\n",
        "        plt.quiver(0, 0, e_week1[0], e_week1[1],\r\n",
        "                   angles='xy', scale_units='xy', scale=1, color='red', width=0.0025,\r\n",
        "                   label='Week 1: -{:.2f}'.format(np.linalg.norm(e_week1)))\r\n",
        "        plt.quiver(e_week1[0], e_week1[1], e_week2[0], e_week2[1],\r\n",
        "                   angles='xy', scale_units='xy', scale=1, color='blue', width=0.0025,\r\n",
        "                   label='Week 2: {:.2f}'.format(np.linalg.norm(e_week2)))\r\n",
        "        plt.quiver(np.add(e_week1[0],e_week2[0]), np.add(e_week1[1], e_week2[1]), e_week3[0], e_week3[1],\r\n",
        "                   angles='xy', scale_units='xy', scale=1, color='green', width=0.0025,\r\n",
        "                   label='Week 3: {:.2f}'.format(np.linalg.norm(e_week3)))\r\n",
        "        plt.quiver(np.add(e_week1[0] + e_week2[0], e_week3[0]), np.add(e_week1[1] + e_week2[1], e_week3[1]), e_week4[0], e_week4[1],\r\n",
        "                   angles='xy', scale_units='xy', scale=1, color='yellow', width=0.0025,\r\n",
        "                   label='Week 4: {:.2f}'.format(np.linalg.norm(e_week4)))\r\n",
        "\r\n",
        "        ## put necessary vector plotting code here\r\n",
        "\r\n",
        "        plt.quiver(0, 0, e_month[0], e_month[1],\r\n",
        "                   angles='xy', scale_units='xy', scale=1, color='purple', width=0.005,\r\n",
        "                   label='Efficiency: {:.2f} @ {:.2f}'.format(e_month_magnitude, theta))\r\n",
        "\r\n",
        "        plt.legend(loc='upper left')\r\n",
        "\r\n",
        "        if make_figs:\r\n",
        "            plt.savefig(f'LinAlg-Lab2-Bebang Post Eff-{int(e_month_magnitude)}@{int(theta)}.png', dpi=300)\r\n",
        "\r\n",
        "        plt.show()\r\n",
        "\r\n",
        "    else:\r\n",
        "        print('Profit Values : Error')\r\n",
        "        print('Reach Values : Error') ## Make a more appropriate error statement.\r\n",
        "\r\n",
        "## END OF FUNCTION  "
      ],
      "execution_count": 3,
      "outputs": []
    },
    {
      "cell_type": "code",
      "metadata": {
        "id": "SugajdX4MnWE",
        "colab": {
          "base_uri": "https://localhost:8080/",
          "height": 313
        },
        "outputId": "0d1a16ea-a40a-49fe-ddfb-7170ad3f99a6"
      },
      "source": [
        "profit= np.array([-18000, 3000, 12000, 10000])    ## You can change the values to make different scenarios\r\n",
        "reach = np.array([1000, 100, 500, 10])             ## You can change the values to make different scenarios\r\n",
        "\r\n",
        "month_profit_trace(profit, reach, make_figs=False) ## Toggle 'make_figs' during debugging or making documentations"
      ],
      "execution_count": 4,
      "outputs": [
        {
          "output_type": "stream",
          "text": [
            " [1610 7000]\n"
          ],
          "name": "stdout"
        },
        {
          "output_type": "display_data",
          "data": {
            "image/png": "[encoded data removed]",
            "text/plain": [
              "<Figure size 432x288 with 1 Axes>"
            ]
          },
          "metadata": {
            "tags": [],
            "needs_background": "light"
          }
        }
      ]
    },
    {
      "cell_type": "markdown",
      "metadata": {
        "id": "zk9ATlh5wyNw"
      },
      "source": [
        "$$\\text{Vector Form}$$\r\n",
        "\r\n",
        "$$week1 = \\begin{bmatrix} 1000\\\\-18000 \\\\\\end{bmatrix} $$\r\n",
        "\r\n",
        "$$week2 = \\begin{bmatrix} 100\\\\3000 \\\\\\end{bmatrix} $$\r\n",
        "\r\n",
        "$$week3 = \\begin{bmatrix} 500\\\\12000 \\\\\\end{bmatrix} $$\r\n",
        "\r\n",
        "$$week4 = \\begin{bmatrix} 10\\\\10000 \\\\\\end{bmatrix} $$\r\n",
        "\r\n",
        "$$monthly = \\begin{bmatrix} 1610\\\\7000 \\\\\\end{bmatrix} $$"
      ]
    },
    {
      "cell_type": "markdown",
      "metadata": {
        "id": "Pa4ahfCzx1Tn"
      },
      "source": [
        "$$\\text{General Equation Form}$$\r\n",
        "$$ week1 = 1000\\hat{x} - 18000\\hat{y} $$\r\n",
        "$$ week2 = 100\\hat{x} + 3000\\hat{y} $$\r\n",
        "$$ week3 = 500\\hat{x} + 12000\\hat{y} $$\r\n",
        "$$ week4 = 10\\hat{x} + 10000\\hat{y} $$\r\n",
        "\r\n",
        "$$ monthly = 1610\\hat{x} + 1000\\hat{y} $$"
      ]
    }
  ]
}